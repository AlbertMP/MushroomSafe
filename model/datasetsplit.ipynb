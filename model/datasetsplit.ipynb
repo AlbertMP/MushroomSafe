{
 "cells": [
  {
   "cell_type": "code",
   "execution_count": 4,
   "metadata": {},
   "outputs": [],
   "source": [
    "import os\n",
    "import shutil\n",
    "from sklearn.model_selection import train_test_split\n",
    "\n",
    "def train_val_test_split(image_dir, train_dir, val_dir, test_dir, train_ratio=0.7, val_ratio=0.2, test_ratio=0.1):\n",
    "    classes = os.listdir(image_dir)\n",
    "\n",
    "    for class_label in classes:\n",
    "        image_paths = os.listdir(os.path.join(image_dir, class_label))\n",
    "        image_paths = [os.path.join(image_dir, class_label, img) for img in image_paths]\n",
    "        \n",
    "        # First split into train and rest\n",
    "        train_images, rest_images = train_test_split(image_paths, test_size=1-train_ratio, random_state=42)\n",
    "        \n",
    "        # Compute split ratio for validation and test\n",
    "        rest_ratio = 1.0 - train_ratio\n",
    "        new_val_ratio = val_ratio / rest_ratio\n",
    "        new_test_ratio = test_ratio / rest_ratio\n",
    "        \n",
    "        # Split rest into validation and test\n",
    "        val_images, test_images = train_test_split(rest_images, test_size=new_test_ratio/(new_val_ratio + new_test_ratio), random_state=42)\n",
    "        \n",
    "        datasets = {'train': train_images, 'val': val_images, 'test': test_images}\n",
    "        for dataset_name, dataset in datasets.items():\n",
    "            for path in dataset:\n",
    "                target_dir = os.path.join(eval(dataset_name + '_dir'), class_label)\n",
    "                os.makedirs(target_dir, exist_ok=True)\n",
    "                shutil.copy(path, target_dir)\n",
    "\n",
    "train_val_test_split('./MO_106/', './MO_106_train/', './MO_106_val/', './MO_106_test/')\n"
   ]
  }
 ],
 "metadata": {
  "kernelspec": {
   "display_name": "MushroomSafe",
   "language": "python",
   "name": "python3"
  },
  "language_info": {
   "codemirror_mode": {
    "name": "ipython",
    "version": 3
   },
   "file_extension": ".py",
   "mimetype": "text/x-python",
   "name": "python",
   "nbconvert_exporter": "python",
   "pygments_lexer": "ipython3",
   "version": "3.9.16"
  },
  "orig_nbformat": 4,
  "vscode": {
   "interpreter": {
    "hash": "90cf4323b0f3e7818881616c97ad975a38b4b8939ce3bdd7b618100271e42283"
   }
  }
 },
 "nbformat": 4,
 "nbformat_minor": 2
}
